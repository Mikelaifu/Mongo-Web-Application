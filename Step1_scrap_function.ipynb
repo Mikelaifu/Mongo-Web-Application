{
 "cells": [
  {
   "cell_type": "code",
   "execution_count": null,
   "metadata": {
    "collapsed": true
   },
   "outputs": [],
   "source": [
    "from bs4 import BeautifulSoup \n",
    "import pymongo \n",
    "from pprint import pprint \n",
    "import pandas as pd\n",
    "import requests\n",
    "from splinter import Browser\n",
    "import json\n",
    "import tweepy\n",
    "import pymongo\n",
    "import os\n",
    "import time\n",
    "from config import consumer_key, consumer_secret, access_token, access_token_secret\n",
    "from pprint import pprint\n",
    "auth = tweepy.OAuthHandler(consumer_key, consumer_secret)\n",
    "auth.set_access_token(access_token, access_token_secret)\n",
    "api = tweepy.API(auth, parser = tweepy.parsers.JSONParser())"
   ]
  },
  {
   "cell_type": "code",
   "execution_count": null,
   "metadata": {},
   "outputs": [],
   "source": [
    "\n",
    "def mars_news():\n",
    "  \n",
    "    browser = Browser('chrome', headless=False)\n",
    "    url1 = 'https://mars.nasa.gov/news/?page=0&per_page=40&order=publish_date+desc%2Ccreated_at+desc&search=&category=19%2C165%2C184%2C204&blank_scope=Latest'\n",
    "    browser.visit(url1)\n",
    "    time.sleep(3)\n",
    "    html = browser.html\n",
    "    soup = BeautifulSoup(html, \"html.parser\")\n",
    "    \n",
    "    results= soup.find_all('div', class_= \"image_and_description_container\")\n",
    "    title_list = []\n",
    "    para_list = []\n",
    "    mars_para = {}\n",
    "    mars_title = {}\n",
    "    for i in range(4):\n",
    "        title = results[i].find(\"div\", class_ = \"content_title\").text\n",
    "        title_list.append(title)\n",
    "        paragraph = results[i].find('div', class_=\"article_teaser_body\").text\n",
    "        para_list.append(paragraph)\n",
    "   \n",
    "    if title_list and para_list:\n",
    "        mars_list = [\n",
    "            {\"Title\":  title_list[0]}, \n",
    "            {\"Paragraph\" : para_list[0]}\n",
    "        ]\n",
    "       \n",
    " \n",
    "    print(\"-------------\")\n",
    "    print(\"title:\", title_list[0] )\n",
    "    print(\"Paragraph: \", para_list[0])\n",
    "        \n",
    "    \n",
    "    return mars_list"
   ]
  },
  {
   "cell_type": "code",
   "execution_count": null,
   "metadata": {},
   "outputs": [],
   "source": [
    "mars_news()[0]"
   ]
  },
  {
   "cell_type": "code",
   "execution_count": null,
   "metadata": {},
   "outputs": [],
   "source": [
    "listt[0]\n",
    "# dictt = {}\n",
    "# dictt[\"mars_news\"] = mars_news()\n",
    "# dictt"
   ]
  },
  {
   "cell_type": "code",
   "execution_count": null,
   "metadata": {
    "collapsed": true
   },
   "outputs": [],
   "source": [
    "def mars_weather():\n",
    "    mars_weather_dict = {}\n",
    "    public_tweets = api.user_timeline('@MarsWxReport')\n",
    "    tweetlist = []\n",
    "    for tweet in public_tweets:\n",
    "        tweetlist.append(tweet)\n",
    "        latest_tweet = tweetlist[0]['text']\n",
    "    mars_weather_dict[\"lastest_tweet\"] = latest_tweet\n",
    "    return mars_weather_dict\n",
    "\n"
   ]
  },
  {
   "cell_type": "code",
   "execution_count": null,
   "metadata": {
    "collapsed": true
   },
   "outputs": [],
   "source": [
    "# mars_weather()"
   ]
  },
  {
   "cell_type": "code",
   "execution_count": null,
   "metadata": {
    "collapsed": true
   },
   "outputs": [],
   "source": [
    "# browser = Browser('chrome', headless=False)\n",
    "# url = \"https://www.jpl.nasa.gov/spaceimages/?search=&category=Mars\"\n",
    "# browser.visit(url)\n",
    "# html = browser.html\n",
    "# soup = BeautifulSoup(html, \"html.parser\")\n"
   ]
  },
  {
   "cell_type": "code",
   "execution_count": null,
   "metadata": {
    "collapsed": true
   },
   "outputs": [],
   "source": [
    "# print(soup.prettify())"
   ]
  },
  {
   "cell_type": "code",
   "execution_count": null,
   "metadata": {
    "collapsed": true
   },
   "outputs": [],
   "source": [
    "# browser.click_link_by_id(\"full_image\")"
   ]
  },
  {
   "cell_type": "code",
   "execution_count": null,
   "metadata": {
    "collapsed": true
   },
   "outputs": [],
   "source": [
    "# elem = browser.find_link_by_partial_href(\"PIA\")\n",
    "# print(elem['href'])"
   ]
  },
  {
   "cell_type": "code",
   "execution_count": null,
   "metadata": {
    "collapsed": true
   },
   "outputs": [],
   "source": [
    "def mars_Images():\n",
    "    from splinter import Browser\n",
    "    from bs4 import BeautifulSoup\n",
    "    image_dict = {}\n",
    "    browser = Browser('chrome', headless=False)\n",
    "    url = \"https://www.jpl.nasa.gov/spaceimages/?search=&category=Mars\"\n",
    "    browser.visit(url)\n",
    "    time.sleep(3)\n",
    "    browser.click_link_by_id(\"full_image\")\n",
    "    elem = browser.find_link_by_partial_href(\"PIA\")\n",
    "    image_url = elem['href']\n",
    "    browser.quit()\n",
    "    browser2 = Browser('chrome', headless=False)\n",
    "    url2 = image_url\n",
    "    browser2.visit(url2) \n",
    "    browser2 = Browser('chrome', headless=False)\n",
    "    url2 = image_url\n",
    "    browser2.visit(url2)\n",
    "    elem = browser2.find_link_by_partial_href(\"/spaceimages/images\")\n",
    "    featured_image_url = elem['href']\n",
    "    \n",
    "    \n",
    "    image_dict[\"featured_image_url\"] = featured_image_url\n",
    "    \n",
    "    return image_dict"
   ]
  },
  {
   "cell_type": "code",
   "execution_count": null,
   "metadata": {
    "collapsed": true
   },
   "outputs": [],
   "source": [
    "def Mars_Table_fact():\n",
    "    table = {}\n",
    "    url = \"https://space-facts.com/mars/\"\n",
    "    planet_table = pd.read_html(url)\n",
    "    df = planet_table[0]\n",
    "\n",
    "    df.columns = ['Elements', \"data\"]\n",
    "    html_table = df.to_html(header=None,index=False)\n",
    "\n",
    "    html_table = html_table.replace('\\n', '')\n",
    "    table[\"Fact_table\"] = html_table\n",
    "    \n",
    "    return table"
   ]
  },
  {
   "cell_type": "code",
   "execution_count": null,
   "metadata": {},
   "outputs": [],
   "source": [
    "Mars_Table_fact()"
   ]
  },
  {
   "cell_type": "code",
   "execution_count": null,
   "metadata": {
    "collapsed": true
   },
   "outputs": [],
   "source": [
    "\n",
    "def scrap_hemisphereInfo():\n",
    "    \n",
    "    from splinter import Browser\n",
    "    from bs4 import BeautifulSoup\n",
    "    # get branch links and name:\n",
    "    browser = Browser('chrome', headless=False)\n",
    "    url = 'https://astrogeology.usgs.gov/search/results?q=hemisphere+enhanced&k1=target&v1=Mars'\n",
    "    browser.visit(url)\n",
    "    time.sleep(3)\n",
    "    html = browser.html\n",
    "    soup = BeautifulSoup(html, \"html.parser\")\n",
    "    # loop to spiders the name and links info\n",
    "    title_names = soup.find_all(\"div\", class_ = \"description\")\n",
    "    titles = []\n",
    "    branch_links = []\n",
    "    for title_name in title_names:\n",
    "        \n",
    "        # loop get the links ready \n",
    "        link = title_name.a['href']\n",
    "        href = f\"https://astrogeology.usgs.gov/{link}\"\n",
    "        branch_links.append(href)\n",
    "        \n",
    "        # get the names ready \n",
    "        name = title_name.h3.text\n",
    "        titles.append(name.replace(\" Enhanced\", \"\").strip())\n",
    "        \n",
    "    hemisphere_image_urls = []\n",
    "    dictt = {}\n",
    "\n",
    "    for i in range(len(branch_links)):\n",
    "        browser = Browser('chrome', headless=False)\n",
    "        url = branch_links[i]\n",
    "        browser.visit(url)\n",
    "        full_image_link = browser.find_link_by_text(\"Original\")\n",
    "        image_link = full_image_link['href']\n",
    "        dictt['title'] = titles[i]\n",
    "        dictt['image_url'] = image_link\n",
    "        hemisphere_image_urls.append(dictt)\n",
    "\n",
    "    return hemisphere_image_urls\n",
    "        \n",
    "    \n",
    "\n"
   ]
  },
  {
   "cell_type": "code",
   "execution_count": null,
   "metadata": {},
   "outputs": [],
   "source": [
    "\n",
    "scrap_hemisphereInfo()"
   ]
  },
  {
   "cell_type": "code",
   "execution_count": null,
   "metadata": {
    "collapsed": true
   },
   "outputs": [],
   "source": [
    "def scrap():\n",
    "    import pymongo\n",
    "    from bs4 import BeautifulSoup \n",
    "    import pymongo \n",
    "    from pprint import pprint \n",
    "    import pandas as pd\n",
    "    import requests\n",
    "    from splinter import Browser\n",
    "    import json\n",
    "    import tweepy\n",
    "    import os\n",
    "    import time\n",
    "    from config import consumer_key, consumer_secret, access_token, access_token_secret\n",
    "    from pprint import pprint\n",
    "    auth = tweepy.OAuthHandler(consumer_key, consumer_secret)\n",
    "    auth.set_access_token(access_token, access_token_secret)\n",
    "    api = tweepy.API(auth, parser = tweepy.parsers.JSONParser())\n",
    "    \n",
    "    final_dict = {}\n",
    "    final_dict[\"Mars_News\"] = mars_news()\n",
    "    final_dict[\"mars_weather\"] = mars_weather()\n",
    "    final_dict[\"Mars_image\"] = mars_Images()\n",
    "    final_dict[\"Mars_fact_table\"] = Mars_Table_fact()\n",
    "    final_dict[\"Hemisphere_list\"] = scrap_hemisphereInfo()\n",
    "    \n",
    "    \n",
    "\n",
    "    return final_dict"
   ]
  },
  {
   "cell_type": "code",
   "execution_count": null,
   "metadata": {},
   "outputs": [],
   "source": [
    "scrap()"
   ]
  },
  {
   "cell_type": "code",
   "execution_count": null,
   "metadata": {
    "collapsed": true
   },
   "outputs": [],
   "source": [
    "def insertmongo(dictionary):\n",
    "    import pymongo\n",
    "    conn = 'mongodb://localhost:27017'\n",
    "    client = pymongo.MongoClient(conn)\n",
    "    \n",
    "    db= client.mars_db\n",
    "    \n",
    "    db.mars.drop()\n",
    "    time.sleep(3)\n",
    "    collection = db.mars\n",
    "    collection.insert_one(dictionary)\n",
    "    mar_dict = collection.find()\n",
    "    \n",
    "    if  mar_dict :\n",
    "        \n",
    "        message = \"Insert Successfully\"\n",
    "        print(mar_dict)\n",
    "   \n",
    "    return message"
   ]
  },
  {
   "cell_type": "code",
   "execution_count": null,
   "metadata": {},
   "outputs": [],
   "source": [
    "insertmongo(scrap())"
   ]
  },
  {
   "cell_type": "code",
   "execution_count": null,
   "metadata": {
    "collapsed": true
   },
   "outputs": [],
   "source": []
  },
  {
   "cell_type": "code",
   "execution_count": null,
   "metadata": {
    "collapsed": true
   },
   "outputs": [],
   "source": []
  },
  {
   "cell_type": "code",
   "execution_count": null,
   "metadata": {
    "collapsed": true
   },
   "outputs": [],
   "source": []
  },
  {
   "cell_type": "code",
   "execution_count": null,
   "metadata": {
    "collapsed": true
   },
   "outputs": [],
   "source": []
  },
  {
   "cell_type": "code",
   "execution_count": null,
   "metadata": {
    "collapsed": true
   },
   "outputs": [],
   "source": []
  },
  {
   "cell_type": "code",
   "execution_count": null,
   "metadata": {
    "collapsed": true
   },
   "outputs": [],
   "source": []
  },
  {
   "cell_type": "code",
   "execution_count": null,
   "metadata": {
    "collapsed": true
   },
   "outputs": [],
   "source": []
  },
  {
   "cell_type": "code",
   "execution_count": null,
   "metadata": {
    "collapsed": true
   },
   "outputs": [],
   "source": []
  },
  {
   "cell_type": "code",
   "execution_count": null,
   "metadata": {
    "collapsed": true
   },
   "outputs": [],
   "source": []
  },
  {
   "cell_type": "code",
   "execution_count": null,
   "metadata": {
    "collapsed": true
   },
   "outputs": [],
   "source": []
  },
  {
   "cell_type": "code",
   "execution_count": null,
   "metadata": {
    "collapsed": true
   },
   "outputs": [],
   "source": []
  },
  {
   "cell_type": "code",
   "execution_count": null,
   "metadata": {
    "collapsed": true
   },
   "outputs": [],
   "source": []
  },
  {
   "cell_type": "code",
   "execution_count": null,
   "metadata": {
    "collapsed": true
   },
   "outputs": [],
   "source": []
  },
  {
   "cell_type": "code",
   "execution_count": null,
   "metadata": {
    "collapsed": true
   },
   "outputs": [],
   "source": []
  },
  {
   "cell_type": "code",
   "execution_count": null,
   "metadata": {
    "collapsed": true
   },
   "outputs": [],
   "source": []
  },
  {
   "cell_type": "code",
   "execution_count": null,
   "metadata": {
    "collapsed": true
   },
   "outputs": [],
   "source": []
  },
  {
   "cell_type": "code",
   "execution_count": null,
   "metadata": {
    "collapsed": true
   },
   "outputs": [],
   "source": []
  },
  {
   "cell_type": "code",
   "execution_count": null,
   "metadata": {
    "collapsed": true
   },
   "outputs": [],
   "source": []
  },
  {
   "cell_type": "code",
   "execution_count": null,
   "metadata": {
    "collapsed": true
   },
   "outputs": [],
   "source": []
  },
  {
   "cell_type": "code",
   "execution_count": null,
   "metadata": {
    "collapsed": true
   },
   "outputs": [],
   "source": []
  },
  {
   "cell_type": "code",
   "execution_count": null,
   "metadata": {
    "collapsed": true
   },
   "outputs": [],
   "source": []
  },
  {
   "cell_type": "code",
   "execution_count": null,
   "metadata": {
    "collapsed": true
   },
   "outputs": [],
   "source": []
  },
  {
   "cell_type": "code",
   "execution_count": null,
   "metadata": {
    "collapsed": true
   },
   "outputs": [],
   "source": []
  }
 ],
 "metadata": {
  "kernelspec": {
   "display_name": "Python 3",
   "language": "python",
   "name": "python3"
  },
  "language_info": {
   "codemirror_mode": {
    "name": "ipython",
    "version": 3
   },
   "file_extension": ".py",
   "mimetype": "text/x-python",
   "name": "python",
   "nbconvert_exporter": "python",
   "pygments_lexer": "ipython3",
   "version": "3.6.4"
  }
 },
 "nbformat": 4,
 "nbformat_minor": 2
}
